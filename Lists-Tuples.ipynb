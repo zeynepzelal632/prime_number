{
 "cells": [
  {
   "cell_type": "markdown",
   "id": "3afd1ebe",
   "metadata": {},
   "source": [
    "# Python List &Tuples"
   ]
  },
  {
   "cell_type": "code",
   "execution_count": null,
   "id": "fc0109d8",
   "metadata": {},
   "outputs": [],
   "source": [
    "mylist = [\"apple\", \"banana\", \"cherry\"]"
   ]
  },
  {
   "cell_type": "code",
   "execution_count": null,
   "id": "4d4fe54d",
   "metadata": {},
   "outputs": [],
   "source": [
    "type(mylist)"
   ]
  },
  {
   "cell_type": "code",
   "execution_count": null,
   "id": "9aa4a72c",
   "metadata": {},
   "outputs": [],
   "source": [
    "len(mylist)"
   ]
  },
  {
   "cell_type": "code",
   "execution_count": null,
   "id": "46e0e38d",
   "metadata": {},
   "outputs": [],
   "source": [
    "mytuple = (1,2,3,\"selam\")"
   ]
  },
  {
   "cell_type": "code",
   "execution_count": null,
   "id": "10d2efcd",
   "metadata": {},
   "outputs": [],
   "source": [
    "type(mytuple)"
   ]
  },
  {
   "cell_type": "code",
   "execution_count": null,
   "id": "793c2732",
   "metadata": {},
   "outputs": [],
   "source": [
    "len(mytuple)"
   ]
  },
  {
   "cell_type": "markdown",
   "id": "704947ca",
   "metadata": {},
   "source": [
    "__Lists and tuples are Ordered Objects:__"
   ]
  },
  {
   "cell_type": "code",
   "execution_count": null,
   "id": "a480f2f8",
   "metadata": {},
   "outputs": [],
   "source": [
    "mylist[0]"
   ]
  },
  {
   "cell_type": "code",
   "execution_count": null,
   "id": "d7959cc1",
   "metadata": {},
   "outputs": [],
   "source": [
    "mytuple[3]    "
   ]
  },
  {
   "cell_type": "code",
   "execution_count": null,
   "id": "cb1834b1",
   "metadata": {},
   "outputs": [],
   "source": [
    "mylist[0:2]"
   ]
  },
  {
   "cell_type": "code",
   "execution_count": null,
   "id": "1d985ee8",
   "metadata": {},
   "outputs": [],
   "source": []
  },
  {
   "cell_type": "markdown",
   "id": "e92df535",
   "metadata": {},
   "source": [
    "__List Methods:__"
   ]
  },
  {
   "cell_type": "code",
   "execution_count": null,
   "id": "06be9fad",
   "metadata": {},
   "outputs": [],
   "source": [
    "mylist.append(\"test data\")"
   ]
  },
  {
   "cell_type": "code",
   "execution_count": null,
   "id": "ce1d7f16",
   "metadata": {},
   "outputs": [],
   "source": [
    "mylist"
   ]
  },
  {
   "cell_type": "code",
   "execution_count": null,
   "id": "f00e4df7",
   "metadata": {},
   "outputs": [],
   "source": [
    "mylist.remove(\"test data\")"
   ]
  },
  {
   "cell_type": "code",
   "execution_count": null,
   "id": "841200bc",
   "metadata": {},
   "outputs": [],
   "source": [
    "mylist"
   ]
  },
  {
   "cell_type": "code",
   "execution_count": null,
   "id": "bbcf8870",
   "metadata": {},
   "outputs": [],
   "source": []
  },
  {
   "cell_type": "markdown",
   "id": "89cc796a",
   "metadata": {},
   "source": [
    "__Updating Lists Elements:__"
   ]
  },
  {
   "cell_type": "code",
   "execution_count": null,
   "id": "f5e5b5a4",
   "metadata": {},
   "outputs": [],
   "source": [
    "test_data = [\"A\",\"B\",\"C\"]"
   ]
  },
  {
   "cell_type": "code",
   "execution_count": null,
   "id": "710c045e",
   "metadata": {},
   "outputs": [],
   "source": [
    "test_data[0]"
   ]
  },
  {
   "cell_type": "code",
   "execution_count": null,
   "id": "693bc3d7",
   "metadata": {},
   "outputs": [],
   "source": [
    "test_data[0] = \"AABBCC\""
   ]
  },
  {
   "cell_type": "code",
   "execution_count": null,
   "id": "207b2906",
   "metadata": {},
   "outputs": [],
   "source": [
    "test_data"
   ]
  },
  {
   "cell_type": "markdown",
   "id": "535b4ead",
   "metadata": {},
   "source": [
    "__The difference between Lists and Tupples__"
   ]
  },
  {
   "cell_type": "code",
   "execution_count": null,
   "id": "1b663a10",
   "metadata": {},
   "outputs": [],
   "source": [
    "test_tuple = (\"ibo\", \"tunc\")\n",
    "test_list = [\"ibo\", \"tunc\"]"
   ]
  },
  {
   "cell_type": "code",
   "execution_count": null,
   "id": "9bec67be",
   "metadata": {},
   "outputs": [],
   "source": [
    "test_list[0] = \"ali\""
   ]
  },
  {
   "cell_type": "code",
   "execution_count": null,
   "id": "e4e1af55",
   "metadata": {},
   "outputs": [],
   "source": [
    "test_tuple[0] = \"veli\""
   ]
  },
  {
   "cell_type": "code",
   "execution_count": null,
   "id": "aabd7447",
   "metadata": {},
   "outputs": [],
   "source": []
  }
 ],
 "metadata": {
  "kernelspec": {
   "display_name": "Python 3 (ipykernel)",
   "language": "python",
   "name": "python3"
  },
  "language_info": {
   "codemirror_mode": {
    "name": "ipython",
    "version": 3
   },
   "file_extension": ".py",
   "mimetype": "text/x-python",
   "name": "python",
   "nbconvert_exporter": "python",
   "pygments_lexer": "ipython3",
   "version": "3.10.9"
  }
 },
 "nbformat": 4,
 "nbformat_minor": 5
}
